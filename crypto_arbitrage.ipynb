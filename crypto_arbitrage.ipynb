{
 "cells": [
  {
   "cell_type": "markdown",
   "metadata": {},
   "source": [
    "## Crypto Arbitrage\n",
    "\n",
    "In this Challenge, you'll take on the role of an analyst at a high-tech investment firm. The vice president (VP) of your department is considering arbitrage opportunities in Bitcoin and other cryptocurrencies. As Bitcoin trades on markets across the globe, can you capitalize on simultaneous price dislocations in those markets by using the powers of Pandas?\n",
    "\n",
    "For this assignment, you’ll sort through historical trade data for Bitcoin on two exchanges: Bitstamp and Coinbase. Your task is to apply the three phases of financial analysis to determine if any arbitrage opportunities exist for Bitcoin.\n",
    "\n",
    "This aspect of the Challenge will consist of 3 phases.\n",
    "\n",
    "1. Collect the data.\n",
    "\n",
    "2. Prepare the data.\n",
    "\n",
    "3. Analyze the data. \n",
    "\n"
   ]
  },
  {
   "cell_type": "markdown",
   "metadata": {},
   "source": [
    "###  Import the required libraries and dependencies."
   ]
  },
  {
   "cell_type": "code",
   "execution_count": null,
   "metadata": {},
   "outputs": [],
   "source": [
    "import pandas as pd\n",
    "from pathlib import Path\n",
    "%matplotlib inline"
   ]
  },
  {
   "cell_type": "markdown",
   "metadata": {},
   "source": [
    "## Collect the Data\n",
    "\n",
    "To collect the data that you’ll need, complete the following steps:\n",
    "\n",
    "Instructions. \n",
    "\n",
    "1. Using the Pandas `read_csv` function and the `Path` module, import the data from `bitstamp.csv` file, and create a DataFrame called `bitstamp`. Set the DatetimeIndex as the Timestamp column, and be sure to parse and format the dates.\n",
    "\n",
    "2. Use the `head` (and/or the `tail`) function to confirm that Pandas properly imported the data.\n",
    "\n",
    "3. Repeat Steps 1 and 2 for `coinbase.csv` file."
   ]
  },
  {
   "cell_type": "markdown",
   "metadata": {},
   "source": [
    "### Step 1: Using the Pandas `read_csv` function and the `Path` module, import the data from `bitstamp.csv` file, and create a DataFrame called `bitstamp`. Set the DatetimeIndex as the Timestamp column, and be sure to parse and format the dates."
   ]
  },
  {
   "cell_type": "code",
   "execution_count": null,
   "metadata": {},
   "outputs": [],
   "source": [
    "# Read in the CSV file called \"bitstamp.csv\" using the Path module. \n",
    "# The CSV file is located in the Resources folder.\n",
    "# Set the index to the column \"Date\"\n",
    "# Set the parse_dates and infer_datetime_format parameters\n",
    "bitstamp = pd.read_csv(\n",
    "    Path('./Resources/bitstamp.csv'), \n",
    "    index_col=\"Timestamp\", \n",
    "    parse_dates=True, \n",
    "    infer_datetime_format=True\n",
    ")"
   ]
  },
  {
   "cell_type": "markdown",
   "metadata": {},
   "source": [
    "### Step 2: Use the `head` (and/or the `tail`) function to confirm that Pandas properly imported the data."
   ]
  },
  {
   "cell_type": "code",
   "execution_count": null,
   "metadata": {},
   "outputs": [],
   "source": [
    "# Use the head (and/or tail) function to confirm that the data was imported properly.\n",
    "print(\"\\n\")\n",
    "print(\"bitstamp DataFrame Head:\")\n",
    "display(bitstamp.head())\n",
    "print(\"\\n\")\n",
    "\n",
    "print(\"bitstamp Tail:\")\n",
    "display(bitstamp.tail())\n",
    "print(\"\\n\")"
   ]
  },
  {
   "cell_type": "markdown",
   "metadata": {},
   "source": [
    "### Step 3: Repeat Steps 1 and 2 for `coinbase.csv` file."
   ]
  },
  {
   "cell_type": "code",
   "execution_count": null,
   "metadata": {},
   "outputs": [],
   "source": [
    "# Read in the CSV file called \"coinbase.csv\" using the Path module. \n",
    "# The CSV file is located in the Resources folder.\n",
    "# Set the index to the column \"Timestamp\"\n",
    "# Set the parse_dates and infer_datetime_format parameters\n",
    "coinbase = pd.read_csv(\n",
    "    Path('./Resources/coinbase.csv'), \n",
    "    index_col=\"Timestamp\", \n",
    "    parse_dates=True, \n",
    "    infer_datetime_format=True\n",
    ")"
   ]
  },
  {
   "cell_type": "code",
   "execution_count": null,
   "metadata": {},
   "outputs": [],
   "source": [
    "# Use the head (and/or tail) function to confirm that the data was imported properly.\n",
    "print(\"\\n\")\n",
    "print(\"coinbase Head:\")\n",
    "display(coinbase.head())\n",
    "print(\"\\n\")\n",
    "\n",
    "print(\"coinbase Tail:\")\n",
    "display(coinbase.tail())\n",
    "print(\"\\n\")"
   ]
  },
  {
   "cell_type": "markdown",
   "metadata": {},
   "source": [
    "## Prepare the Data\n",
    "\n",
    "To prepare and clean your data for analysis, complete the following steps:\n",
    "\n",
    "1. For the bitstamp DataFrame, replace or drop all `NaN`, or missing, values in the DataFrame.\n",
    "\n",
    "2. Use the `str.replace` function to remove the dollar signs ($) from the values in the Close column.\n",
    "\n",
    "3. Convert the data type of the Close column to a `float`.\n",
    "\n",
    "4. Review the data for duplicated values, and drop them if necessary.\n",
    "\n",
    "5. Repeat Steps 1–4 for the coinbase DataFrame."
   ]
  },
  {
   "cell_type": "markdown",
   "metadata": {},
   "source": [
    "### Step 1: For the bitstamp DataFrame, replace or drop all `NaN`, or missing, values in the DataFrame."
   ]
  },
  {
   "cell_type": "code",
   "execution_count": null,
   "metadata": {},
   "outputs": [],
   "source": [
    "# For the bitstamp DataFrame, replace or drop all NaNs or missing values in the DataFrame\n",
    "\n",
    "# First get the total number of row entries in the DataFrame (to determine how many Nan rows there are relative to the total number of rows)\n",
    "print(\"\\n\")\n",
    "print(\"Total # of row entries in the bitstamp DataFrame = \", len(bitstamp), \"\\n\")\n",
    "\n",
    "# Print the total number of NaN's in the DataFrame\n",
    "print(\"Sum of of number of Nan entries in the bitstamp DataFrame:\")\n",
    "print(bitstamp.isnull().sum())\n",
    "print(\"\\n\")\n",
    "\n",
    "# Drop all NaN's from DataFrame (Note, only 0.3% of the row entries are Nan, so OK to drop)\n",
    "bitstamp = bitstamp.dropna()\n",
    "print(\"Sum of of number of Nan entries in the bitstamp DataFrame (AFTER DROP NAN):\")\n",
    "print(bitstamp.isnull().sum())\n",
    "print(\"\\n\")"
   ]
  },
  {
   "cell_type": "markdown",
   "metadata": {},
   "source": [
    "### Step 2: Use the `str.replace` function to remove the dollar signs ($) from the values in the Close column."
   ]
  },
  {
   "cell_type": "code",
   "execution_count": null,
   "metadata": {},
   "outputs": [],
   "source": [
    "# Use the str.replace function to remove the dollar sign, $\n",
    "\n",
    "# Print data types head to confirm the $ is part of the values under the Close column\n",
    "print(\"\\n\")\n",
    "print(\"bitstamp (before removal of $)\")\n",
    "display(bitstamp.head())\n",
    "print(\"\\n\")\n",
    "\n",
    "# Remvoe dollar sign from the Close column\n",
    "bitstamp.loc[:, 'Close'] = bitstamp.loc[:, 'Close'].str.replace(\"$\", \"\")\n",
    "\n",
    "# Print data types head to confirm the $ no longer part of the values under the Close column\n",
    "print(\"bitstamp (after removal of $)\")\n",
    "display(bitstamp.head())\n",
    "print(\"\\n\")"
   ]
  },
  {
   "cell_type": "markdown",
   "metadata": {},
   "source": [
    "### Step 3: Convert the data type of the Close column to a `float`."
   ]
  },
  {
   "cell_type": "code",
   "execution_count": null,
   "metadata": {},
   "outputs": [],
   "source": [
    "# Convert the Close data type to a float\n",
    "\n",
    "# First, print the data types of all the columns to determine the type\n",
    "# (Note, removing the $ character from previous step does not change the type of the field - remanes string/boject)\n",
    "print(\"\\n\")\n",
    "print(\"Data types of DataFrame columns (before float converstion):\")\n",
    "print(bitstamp.dtypes)\n",
    "print(\"\\n\")\n",
    "\n",
    "# Convert the data type of Close column to float\n",
    "bitstamp.loc[:, 'Close'] = bitstamp.loc[:, 'Close'].astype(\"float\")\n",
    "\n",
    "# Confirm converted to float by printing data types again\n",
    "print(\"Data types of DataFrame columns (after float converstion):\")\n",
    "print(bitstamp.dtypes)\n",
    "print(\"\\n\")"
   ]
  },
  {
   "cell_type": "markdown",
   "metadata": {},
   "source": [
    "### Step 4: Review the data for duplicated values, and drop them if necessary."
   ]
  },
  {
   "cell_type": "code",
   "execution_count": null,
   "metadata": {},
   "outputs": [],
   "source": [
    "# Review the data for duplicate values, and drop them if necessary\n",
    "\n",
    "# Compute the number of duplicates in DataFrame\n",
    "num_duplicates = bitstamp.duplicated().sum()\n",
    "# Display number of duplicates\n",
    "print(\"\\n\")\n",
    "print(\"Number of duplicates in bitstamp DataFrame = \", num_duplicates)\n",
    "\n",
    "# if number of duplicates is > 0, drop them\n",
    "if (num_duplicates > 0):\n",
    "    bitstamp = bitstamp.drop_duplicates()\n",
    "    print(\"Duplicates dropped, Number of duplicates in bitstamp DataFrame now = \", bitstamp.duplicated().sum())\n",
    "    \n",
    "print(\"\\n\")"
   ]
  },
  {
   "cell_type": "markdown",
   "metadata": {},
   "source": [
    "### Step 5: Repeat Steps 1–4 for the coinbase DataFrame."
   ]
  },
  {
   "cell_type": "code",
   "execution_count": null,
   "metadata": {},
   "outputs": [],
   "source": [
    "# Repeat Steps 1–4 for the coinbase DataFrame\n",
    "\n",
    "# ------\n",
    "# Step 1\n",
    "# ------\n",
    "\n",
    "# For the coinbase DataFrame, replace or drop all NaNs or missing values in the DataFrame\n",
    "\n",
    "# First get the total number of row entries in the DataFrame (to determine how many Nan rows there are relative to the total number of rows)\n",
    "print(\"\\n\")\n",
    "print(\"Total # of row entries in the coinbase DataFrame = \", len(coinbase), \"\\n\")\n",
    "\n",
    "# Print the total number of NaN's in the DataFrame\n",
    "print(\"Sum of of number of Nan entries in the coinbase DataFrame:\")\n",
    "print(coinbase.isnull().sum())\n",
    "print(\"\\n\")\n",
    "\n",
    "# Drop all NaN's from DataFrame (Note, only 0.3% of the row entries are Nan, so OK to drop)\n",
    "coinbase = coinbase.dropna()\n",
    "print(\"Sum of of number of Nan entries in the coinbase DataFrame (AFTER DROP NAN):\")\n",
    "print(coinbase.isnull().sum())\n",
    "print(\"\\n\")\n",
    "\n",
    "\n",
    "# ------\n",
    "# Step 2\n",
    "# ------\n",
    "\n",
    "# Use the str.replace function to remove the dollar sign, $\n",
    "\n",
    "# Print data types head to confirm the $ is part of the values under the Close column\n",
    "print(\"coinbase (before removal of $)\")\n",
    "display(coinbase.head())\n",
    "print(\"\\n\")\n",
    "\n",
    "# Remvoe dollar sign from the Close column\n",
    "coinbase.loc[:, 'Close'] = coinbase.loc[:, 'Close'].str.replace(\"$\", \"\")\n",
    "\n",
    "# Print data types head to confirm the $ no longer part of the values under the Close column\n",
    "print(\"coinbase (after removal of $)\")\n",
    "display(coinbase.head())\n",
    "print(\"\\n\")\n",
    "\n",
    "\n",
    "# ------\n",
    "# Step 3\n",
    "# ------\n",
    "\n",
    "# Convert the Close data type to a float\n",
    "\n",
    "# First, print the data types of all the columns to determine the type\n",
    "# (Note, removing the $ character from previous step does not change the type of the field - remanes string/boject)\n",
    "print(\"Data types of columns (before float converstion):\")\n",
    "print(coinbase.dtypes)\n",
    "print(\"\\n\")\n",
    "\n",
    "# Convert the data type of Close column to float\n",
    "coinbase.loc[:, 'Close'] = coinbase.loc[:, 'Close'].astype(\"float\")\n",
    "\n",
    "# Confirm converted to float by printing data types again\n",
    "print(\"Data types of columns (after float converstion):\")\n",
    "print(coinbase.dtypes)\n",
    "print(\"\\n\")\n",
    "\n",
    "\n",
    "# ------\n",
    "# Step 4\n",
    "# ------\n",
    "\n",
    "# Review the data for duplicate values, and drop them if necessary\n",
    "\n",
    "# Compute the number of duplicates in DataFrame\n",
    "num_duplicates = coinbase.duplicated().sum()\n",
    "# Display number of duplicates\n",
    "print(\"Number of duplicates in coinbase = \", num_duplicates)\n",
    "\n",
    "# if number of duplicates is > 0, drop them\n",
    "if (num_duplicates > 0):\n",
    "    coinbase = coinbase.drop_duplicates()\n",
    "    print(\"Duplicates dropped, Number of duplicates in coinbase now = \", coinbase.duplicated().sum())\n",
    "    \n",
    "print(\"\\n\")"
   ]
  },
  {
   "cell_type": "markdown",
   "metadata": {},
   "source": [
    "## Analyze the Data\n",
    "\n",
    "Your analysis consists of the following tasks: \n",
    "\n",
    "1. Choose the columns of data on which to focus your analysis.\n",
    "\n",
    "2. Get the summary statistics and plot the data.\n",
    "\n",
    "3. Focus your analysis on specific dates.\n",
    "\n",
    "4. Calculate the arbitrage profits."
   ]
  },
  {
   "cell_type": "markdown",
   "metadata": {},
   "source": [
    "### Step 1: Choose columns of data on which to focus your analysis.\n",
    "\n",
    "Select the data you want to analyze. Use `loc` or `iloc` to select the following columns of data for both the bitstamp and coinbase DataFrames:\n",
    "\n",
    "* Timestamp (index)\n",
    "\n",
    "* Close\n"
   ]
  },
  {
   "cell_type": "code",
   "execution_count": null,
   "metadata": {},
   "outputs": [],
   "source": [
    "# Use loc or iloc to select `Timestamp (the index)` and `Close` from bitstamp DataFrame\n",
    "bitstamp_sliced = bitstamp.loc[:, 'Close']\n",
    "\n",
    "# Review the first five rows of the DataFrame\n",
    "# Print the head of the full DataFrame followed by sliced DataFrame (to confirm selected right column)\n",
    "print(\"\\n\")\n",
    "print(\"bitstamp Head:\")\n",
    "display(bitstamp.head())\n",
    "print(\"\\n\")\n",
    "print(\"bitstamp Sliced Head:\")\n",
    "display(bitstamp_sliced.head())\n",
    "print(\"\\n\")"
   ]
  },
  {
   "cell_type": "code",
   "execution_count": null,
   "metadata": {},
   "outputs": [],
   "source": [
    "# Use loc or iloc to select `Timestamp (the index)` and `Close` from coinbase DataFrame\n",
    "coinbase_sliced = coinbase.loc[:, 'Close']\n",
    "\n",
    "# Review the first five rows of the DataFrame\n",
    "# Print the head of the full DataFrame followed by sliced DataFrame (to confirm selected right column)\n",
    "print(\"\\n\")\n",
    "print(\"coinbase Head:\")\n",
    "display(coinbase.head())\n",
    "print(\"\\n\")\n",
    "print(\"coinbase sliced Head:\")\n",
    "display(coinbase_sliced.head())\n",
    "print(\"\\n\")"
   ]
  },
  {
   "cell_type": "markdown",
   "metadata": {},
   "source": [
    "### Step 2: Get summary statistics and plot the data.\n",
    "\n",
    "Sort through the time series data associated with the bitstamp and coinbase DataFrames to identify potential arbitrage opportunities. To do so, complete the following steps:\n",
    "\n",
    "1. Generate the summary statistics for each DataFrame by using the `describe` function.\n",
    "\n",
    "2. For each DataFrame, create a line plot for the full period of time in the dataset. Be sure to tailor the figure size, title, and color to each visualization.\n",
    "\n",
    "3. In one plot, overlay the visualizations that you created in Step 2 for bitstamp and coinbase. Be sure to adjust the legend and title for this new visualization.\n",
    "\n",
    "4. Using the `loc` and `plot` functions, plot the price action of the assets on each exchange for different dates and times. Your goal is to evaluate how the spread between the two exchanges changed across the time period that the datasets define. Did the degree of spread change as time progressed?"
   ]
  },
  {
   "cell_type": "code",
   "execution_count": null,
   "metadata": {},
   "outputs": [],
   "source": [
    "# Generate the summary statistics for the bitstamp DataFrame\n",
    "print(\"\\n\")\n",
    "print(\"bistamp summary statistics:\")\n",
    "display(bitstamp_sliced.describe())\n",
    "print(\"\\n\")"
   ]
  },
  {
   "cell_type": "code",
   "execution_count": null,
   "metadata": {},
   "outputs": [],
   "source": [
    "# Generate the summary statistics for the coinbase DataFrame\n",
    "print(\"\\n\")\n",
    "print(\"coinbase summary statistics:\")\n",
    "display(coinbase_sliced.describe())\n",
    "print(\"\\n\")"
   ]
  },
  {
   "cell_type": "code",
   "execution_count": null,
   "metadata": {},
   "outputs": [],
   "source": [
    "# Create a line plot for the bitstamp DataFrame for the full length of time in the dataset \n",
    "# Be sure that the figure size, title, and color are tailored to each visualization\n",
    "bitstamp_sliced.plot(\n",
    "    figsize = (10,8),\n",
    "    title = \"Bitstamp Closing Prices\",\n",
    "    color = \"blue\")"
   ]
  },
  {
   "cell_type": "code",
   "execution_count": null,
   "metadata": {},
   "outputs": [],
   "source": [
    "# Create a line plot for the coinbase DataFrame for the full length of time in the dataset \n",
    "# Be sure that the figure size, title, and color are tailored to each visualization\n",
    "coinbase_sliced.plot(\n",
    "    figsize = (10,8),\n",
    "    title = \"Coinbase Closing Prices\",\n",
    "    color = \"red\")"
   ]
  },
  {
   "cell_type": "code",
   "execution_count": null,
   "metadata": {},
   "outputs": [],
   "source": [
    "# Overlay the visualizations for the bitstamp and coinbase DataFrames in one plot\n",
    "# The plot should visualize the prices over the full lenth of the dataset\n",
    "# Be sure to include the parameters: legend, figure size, title, and color and label\n",
    "bitstamp_sliced.plot(\n",
    "    legend = True,\n",
    "    figsize = (10,8),\n",
    "    title = \"Bitstamp v. Coinbase Closing Prices\",\n",
    "    color = \"blue\",\n",
    "    label = \"Bitstamp\")\n",
    "coinbase_sliced.plot(\n",
    "    legend = True,\n",
    "    figsize = (10,8),\n",
    "    color = \"red\",\n",
    "    label = \"Coibbase\")"
   ]
  },
  {
   "cell_type": "code",
   "execution_count": null,
   "metadata": {},
   "outputs": [],
   "source": [
    "# Using the loc and plot functions, create an overlay plot that visualizes \n",
    "# the price action of both DataFrames for a one month period early in the dataset\n",
    "# Be sure to include the parameters: legend, figure size, title, and color and label\n",
    "bitstamp_sliced.loc['2018-01-01' : '2018-01-31'].plot(\n",
    "    legend = True,\n",
    "    figsize = (10,8),\n",
    "    title = \"Bitstamp v. Coinbase Closing Prices (January 2018)\",\n",
    "    color = \"blue\",\n",
    "    label = \"Bitstamp\")\n",
    "coinbase_sliced.loc['2018-01-01' : '2018-01-31'].plot(\n",
    "    legend = True,\n",
    "    figsize = (10,8),\n",
    "    color = \"red\",\n",
    "    label = \"Coibbase\")"
   ]
  },
  {
   "cell_type": "code",
   "execution_count": null,
   "metadata": {},
   "outputs": [],
   "source": [
    "# Using the loc and plot functions, create an overlay plot that visualizes \n",
    "# the price action of both DataFrames for a one month period later in the dataset\n",
    "# Be sure to include the parameters: legend, figure size, title, and color and label \n",
    "bitstamp_sliced.loc['2018-03-01' : '2018-03-31'].plot(\n",
    "    legend = True,\n",
    "    figsize = (10,8),\n",
    "    title = \"Bitstamp v. Coinbase Closing Prices (March 2018)\",\n",
    "    color = \"blue\",\n",
    "    label = \"Bitstamp\")\n",
    "coinbase_sliced.loc['2018-03-01' : '2018-03-31'].plot(\n",
    "    legend = True,\n",
    "    figsize = (10,8),\n",
    "    color = \"red\",\n",
    "    label = \"Coibbase\")"
   ]
  },
  {
   "cell_type": "markdown",
   "metadata": {},
   "source": [
    "**Question** Based on the visualizations of the different time periods, has the degree of spread change as time progressed?\n",
    "\n",
    "**Answer** Yes, the earlier time periods have a larger spread."
   ]
  },
  {
   "cell_type": "markdown",
   "metadata": {},
   "source": [
    "### Step 3: Focus Your Analysis on Specific Dates\n",
    "\n",
    "Focus your analysis on specific dates by completing the following steps:\n",
    "\n",
    "1. Select three dates to evaluate for arbitrage profitability. Choose one date that’s early in the dataset, one from the middle of the dataset, and one from the later part of the time period.\n",
    "\n",
    "2. For each of the three dates, generate the summary statistics and then create a box plot. This big-picture view is meant to help you gain a better understanding of the data before you perform your arbitrage calculations. As you compare the data, what conclusions can you draw?"
   ]
  },
  {
   "cell_type": "code",
   "execution_count": null,
   "metadata": {},
   "outputs": [],
   "source": [
    "# Create python variables to hold the early, middle, and late dates (change in a single place to try out different dates)\n",
    "sel_early_date = '2018-01-16'\n",
    "sel_middle_date = '2018-02-24'\n",
    "sel_late_date = '2018-03-26'"
   ]
  },
  {
   "cell_type": "code",
   "execution_count": null,
   "metadata": {},
   "outputs": [],
   "source": [
    "# Create an overlay plot that visualizes the two dataframes over a period of one day early in the dataset. \n",
    "# Be sure that the plots include the parameters `legend`, `figsize`, `title`, `color` and `label` \n",
    "bitstamp_sliced.loc[sel_early_date].plot(\n",
    "    legend = True,\n",
    "    figsize = (10,8),\n",
    "    title = \"Bitstamp v. Coinbase Closing Prices (\" + sel_early_date + \")\",\n",
    "    color = \"blue\",\n",
    "    label = \"Bitstamp\")\n",
    "coinbase_sliced.loc[sel_early_date].plot(\n",
    "    legend = True,\n",
    "    figsize = (10,8),\n",
    "    color = \"red\",\n",
    "    label = \"Coibbase\")"
   ]
  },
  {
   "cell_type": "code",
   "execution_count": null,
   "metadata": {
    "tags": []
   },
   "outputs": [],
   "source": [
    "# Using the early date that you have selected, calculate the arbitrage spread \n",
    "# by subtracting the bitstamp lower closing prices from the coinbase higher closing prices\n",
    "arbitrage_spread_early = coinbase_sliced.loc[sel_early_date] - bitstamp_sliced.loc[sel_early_date]\n",
    "\n",
    "# Generate summary statistics for the early DataFrame\n",
    "print(\"\\n\")\n",
    "print(\"Arbitrage \" + sel_early_date + \" summary statistics:\")\n",
    "display(arbitrage_spread_early.describe())\n",
    "print(\"\\n\")"
   ]
  },
  {
   "cell_type": "code",
   "execution_count": null,
   "metadata": {},
   "outputs": [],
   "source": [
    "# Visualize the arbitrage spread from early in the dataset in a box plot\n",
    "arbitrage_spread_early.plot(\n",
    "    title = \"Arbitrage Spread - \" + sel_early_date + \"\",\n",
    "    kind = \"box\")"
   ]
  },
  {
   "cell_type": "code",
   "execution_count": null,
   "metadata": {},
   "outputs": [],
   "source": [
    "# Create an overlay plot that visualizes the two dataframes over a period of one day from the middle of the dataset. \n",
    "# Be sure that the plots include the parameters `legend`, `figsize`, `title`, `color` and `label` \n",
    "bitstamp_sliced.loc[sel_middle_date].plot(\n",
    "    legend = True,\n",
    "    figsize = (10,8),\n",
    "    title = \"Bitstamp v. Coinbase Closing Prices (\" + sel_middle_date + \")\",\n",
    "    color = \"blue\",\n",
    "    label = \"Bitstamp\")\n",
    "coinbase_sliced.loc[sel_middle_date].plot(\n",
    "    legend = True,\n",
    "    figsize = (10,8),\n",
    "    color = \"red\",\n",
    "    label = \"Coibbase\")"
   ]
  },
  {
   "cell_type": "code",
   "execution_count": null,
   "metadata": {},
   "outputs": [],
   "source": [
    "# Using the date in the middle that you have selected, calculate the arbitrage spread \n",
    "# by subtracting the bitstamp lower closing prices from the coinbase higher closing prices\n",
    "arbitrage_spread_middle = coinbase_sliced.loc[sel_middle_date] - bitstamp_sliced.loc[sel_middle_date]\n",
    "\n",
    "# Generate summary statistics for the middle DataFrame\n",
    "print(\"\\n\")\n",
    "print(\"Arbitrage \" + sel_middle_date + \" summary statistics:\")\n",
    "display(arbitrage_spread_middle.describe())\n",
    "print(\"\\n\")"
   ]
  },
  {
   "cell_type": "code",
   "execution_count": null,
   "metadata": {},
   "outputs": [],
   "source": [
    "# Visualize the arbitrage spread from the middle of the dataset in a box plot\n",
    "arbitrage_spread_middle.plot(\n",
    "    title = \"Arbitrage Spread - \" + sel_middle_date + \"\",\n",
    "    kind = \"box\")"
   ]
  },
  {
   "cell_type": "code",
   "execution_count": null,
   "metadata": {},
   "outputs": [],
   "source": [
    "# Create an overlay plot that visualizes the two dataframes over a period of one day from late in the dataset. \n",
    "# Be sure that the plots include the parameters `legend`, `figsize`, `title`, `color` and `label` \n",
    "bitstamp_sliced.loc[sel_late_date].plot(\n",
    "    legend = True,\n",
    "    figsize = (10,8),\n",
    "    title = \"Bitstamp v. Coinbase Closing Prices (\" + sel_late_date + \")\",\n",
    "    color = \"blue\",\n",
    "    label = \"Bitstamp\")\n",
    "coinbase_sliced.loc[sel_late_date].plot(\n",
    "    legend = True,\n",
    "    figsize = (10,8),\n",
    "    color = \"red\",\n",
    "    label = \"Coibbase\")"
   ]
  },
  {
   "cell_type": "code",
   "execution_count": null,
   "metadata": {},
   "outputs": [],
   "source": [
    "# Using the date from the late that you have selected, calculate the arbitrage spread \n",
    "# by subtracting the bitstamp lower closing prices from the coinbase higher closing prices\n",
    "arbitrage_spread_late = coinbase_sliced.loc[sel_late_date] - bitstamp_sliced.loc[sel_late_date]\n",
    "\n",
    "# Generate summary statistics for the high DataFrame\n",
    "print(\"\\n\")\n",
    "print(\"Arbitrage \" + sel_late_date + \" summary statistics:\")\n",
    "display(arbitrage_spread_late.describe())\n",
    "print(\"\\n\")"
   ]
  },
  {
   "cell_type": "code",
   "execution_count": null,
   "metadata": {},
   "outputs": [],
   "source": [
    "# Visualize the arbitrage spread from late in the dataset in a box plot\n",
    "arbitrage_spread_late.plot(\n",
    "    title = \"Arbitrage Spread - \" + sel_late_date + \"\",\n",
    "    kind = \"box\")"
   ]
  },
  {
   "cell_type": "markdown",
   "metadata": {},
   "source": [
    "### Step 4: Calculate the Arbitrage Profits\n",
    "\n",
    "Calculate the potential profits for each date that you selected in the previous section. Your goal is to determine whether arbitrage opportunities still exist in the Bitcoin market. Complete the following steps:\n",
    "\n",
    "1. For each of the three dates, measure the arbitrage spread between the two exchanges by subtracting the lower-priced exchange from the higher-priced one. Then use a conditional statement to generate the summary statistics for each arbitrage_spread DataFrame, where the spread is greater than zero.\n",
    "\n",
    "2. For each of the three dates, calculate the spread returns. To do so, divide the instances that have a positive arbitrage spread (that is, a spread greater than zero) by the price of Bitcoin from the exchange you’re buying on (that is, the lower-priced exchange). Review the resulting DataFrame.\n",
    "\n",
    "3. For each of the three dates, narrow down your trading opportunities even further. To do so, determine the number of times your trades with positive returns exceed the 1% minimum threshold that you need to cover your costs.\n",
    "\n",
    "4. Generate the summary statistics of your spread returns that are greater than 1%. How do the average returns compare among the three dates?\n",
    "\n",
    "5. For each of the three dates, calculate the potential profit, in dollars, per trade. To do so, multiply the spread returns that were greater than 1% by the cost of what was purchased. Make sure to drop any missing values from the resulting DataFrame.\n",
    "\n",
    "6. Generate the summary statistics, and plot the results for each of the three DataFrames.\n",
    "\n",
    "7. Calculate the potential arbitrage profits that you can make on each day. To do so, sum the elements in the profit_per_trade DataFrame.\n",
    "\n",
    "8. Using the `cumsum` function, plot the cumulative sum of each of the three DataFrames. Can you identify any patterns or trends in the profits across the three time periods?\n",
    "\n",
    "(NOTE: The starter code displays only one date. You'll want to do this analysis for two additional dates)."
   ]
  },
  {
   "cell_type": "markdown",
   "metadata": {},
   "source": [
    "#### 1. For each of the three dates, measure the arbitrage spread between the two exchanges by subtracting the lower-priced exchange from the higher-priced one. Then use a conditional statement to generate the summary statistics for each arbitrage_spread DataFrame, where the spread is greater than zero.\n",
    "\n",
    "*NOTE*: For illustration, only one of the three dates is shown in the starter code below."
   ]
  },
  {
   "cell_type": "code",
   "execution_count": null,
   "metadata": {},
   "outputs": [],
   "source": [
    "# For the date early in the dataset, measure the arbitrage spread between the two exchanges\n",
    "# by subtracting the lower-priced exchange from the higher-priced one\n",
    "arbitrage_spread_early = coinbase_sliced.loc[sel_early_date] - bitstamp_sliced.loc[sel_early_date]\n",
    "\n",
    "# Use a conditional statement to generate the summary statistics for each arbitrage_spread DataFrame\n",
    "arbitrage_spread_early = arbitrage_spread_early[arbitrage_spread_early > 0.0]\n",
    "\n",
    "print(\"\\n\")\n",
    "print(\"Arbitrage Spread > 0.0 \" + sel_early_date + \" summary statistics:\")\n",
    "display(arbitrage_spread_early.describe())\n",
    "print(\"\\n\")\n",
    "\n",
    "\n",
    "\n",
    "# For the date middle in the dataset, measure the arbitrage spread between the two exchanges\n",
    "# by subtracting the lower-priced exchange from the higher-priced one\n",
    "arbitrage_spread_middle = coinbase_sliced.loc[sel_middle_date] - bitstamp_sliced.loc[sel_middle_date]\n",
    "\n",
    "# Use a conditional statement to generate the summary statistics for each arbitrage_spread DataFrame\n",
    "arbitrage_spread_middle = arbitrage_spread_middle[arbitrage_spread_middle > 0.0]\n",
    "\n",
    "print(\"Arbitrage Spread > 0.0 \" + sel_middle_date + \" summary statistics:\")\n",
    "display(arbitrage_spread_middle.describe())\n",
    "print(\"\\n\")\n",
    "\n",
    "\n",
    "\n",
    "# For the date late in the dataset, measure the arbitrage spread between the two exchanges\n",
    "# by subtracting the lower-priced exchange from the higher-priced one\n",
    "arbitrage_spread_late = coinbase_sliced.loc[sel_late_date] - bitstamp_sliced.loc[sel_late_date]\n",
    "\n",
    "# Use a conditional statement to generate the summary statistics for each arbitrage_spread DataFrame\n",
    "arbitrage_spread_late = arbitrage_spread_late[arbitrage_spread_late > 0.0]\n",
    "\n",
    "print(\"Arbitrage Spread > 0.0 \" + sel_late_date + \" summary statistics:\")\n",
    "display(arbitrage_spread_late.describe())\n",
    "print(\"\\n\")\n"
   ]
  },
  {
   "cell_type": "markdown",
   "metadata": {},
   "source": [
    "#### 2. For each of the three dates, calculate the spread returns. To do so, divide the instances that have a positive arbitrage spread (that is, a spread greater than zero) by the price of Bitcoin from the exchange you’re buying on (that is, the lower-priced exchange). Review the resulting DataFrame."
   ]
  },
  {
   "cell_type": "code",
   "execution_count": null,
   "metadata": {},
   "outputs": [],
   "source": [
    "# For the date early in the dataset, calculate the spread returns by dividing the instances when the arbitrage spread is positive (> 0) \n",
    "# by the price of Bitcoin from the exchange you are buying on (the lower-priced exchange).\n",
    "spread_return_early= arbitrage_spread_early / bitstamp_sliced.loc[sel_early_date]\n",
    "\n",
    "# Review the spread return DataFrame\n",
    "print(\"\\n\")\n",
    "print(\"Spread Return \" + sel_early_date + \" Head:\")\n",
    "display(spread_return_early.head())\n",
    "print(\"\\n\")\n",
    "\n",
    "\n",
    "\n",
    "# For the date middle in the dataset, calculate the spread returns by dividing the instances when the arbitrage spread is positive (> 0) \n",
    "# by the price of Bitcoin from the exchange you are buying on (the lower-priced exchange).\n",
    "spread_return_middle= arbitrage_spread_middle / bitstamp_sliced.loc[sel_middle_date]\n",
    "\n",
    "# Review the spread return DataFrame\n",
    "print(\"Spread Return \" + sel_middle_date + \" Head:\")\n",
    "display(spread_return_middle.head())\n",
    "print(\"\\n\")\n",
    "\n",
    "\n",
    "\n",
    "# For the date late in the dataset, calculate the spread returns by dividing the instances when the arbitrage spread is positive (> 0) \n",
    "# by the price of Bitcoin from the exchange you are buying on (the lower-priced exchange).\n",
    "spread_return_late= arbitrage_spread_late / bitstamp_sliced.loc[sel_late_date]\n",
    "\n",
    "# Review the spread return DataFrame\n",
    "print(\"Spread Return \" + sel_late_date + \" Head:\")\n",
    "display(spread_return_late.head())\n",
    "print(\"\\n\")\n"
   ]
  },
  {
   "cell_type": "markdown",
   "metadata": {},
   "source": [
    "#### 3. For each of the three dates, narrow down your trading opportunities even further. To do so, determine the number of times your trades with positive returns exceed the 1% minimum threshold that you need to cover your costs."
   ]
  },
  {
   "cell_type": "code",
   "execution_count": null,
   "metadata": {},
   "outputs": [],
   "source": [
    "# For the date early in the dataset, determine the number of times your trades with positive returns \n",
    "# exceed the 1% minimum threshold (.01) that you need to cover your costs\n",
    "profitable_trades_early = spread_return_early[spread_return_early > 0.01]\n",
    "\n",
    "# Review the first five profitable trades\n",
    "print(\"\\n\")\n",
    "print(\"Profitable Trades \" + sel_early_date + \" Head:\")\n",
    "display(profitable_trades_early.head())\n",
    "print(\"\\n\")\n",
    "\n",
    "\n",
    "\n",
    "# For the date middle in the dataset, determine the number of times your trades with positive returns \n",
    "# exceed the 1% minimum threshold (.01) that you need to cover your costs\n",
    "profitable_trades_middle = spread_return_middle[spread_return_middle > 0.01]\n",
    "\n",
    "# Review the first five profitable trades\n",
    "print(\"Profitable Trades \" + sel_middle_date + \" Head:\")\n",
    "display(profitable_trades_middle.head())\n",
    "print(\"\\n\")\n",
    "\n",
    "\n",
    "\n",
    "# For the date late in the dataset, determine the number of times your trades with positive returns \n",
    "# exceed the 1% minimum threshold (.01) that you need to cover your costs\n",
    "profitable_trades_late = spread_return_late[spread_return_late > 0.01]\n",
    "\n",
    "# Review the first five profitable trades\n",
    "print(\"Profitable Trades \" + sel_late_date + \" Head:\")\n",
    "display(profitable_trades_late.head())\n",
    "print(\"\\n\")\n"
   ]
  },
  {
   "cell_type": "markdown",
   "metadata": {},
   "source": [
    "#### 4. Generate the summary statistics of your spread returns that are greater than 1%. How do the average returns compare among the three dates?"
   ]
  },
  {
   "cell_type": "code",
   "execution_count": null,
   "metadata": {},
   "outputs": [],
   "source": [
    "# For the date early in the dataset, generate the summary statistics for the profitable trades\n",
    "# or you trades where the spread returns are are greater than 1%\n",
    "print(\"\\n\")\n",
    "print(\"Profitable Trades > 1% \" + sel_early_date + \" summary statistics:\")\n",
    "display(profitable_trades_early.describe())\n",
    "print(\"\\n\")\n",
    "\n",
    "\n",
    "\n",
    "# For the date middle in the dataset, generate the summary statistics for the profitable trades\n",
    "# or you trades where the spread returns are are greater than 1%\n",
    "print(\"Profitable Trades > 1% \" + sel_middle_date + \" summary statistics:\")\n",
    "display(profitable_trades_middle.describe())\n",
    "print(\"\\n\")\n",
    "\n",
    "\n",
    "\n",
    "# or you trades where the spread returns are are greater than 1%\n",
    "print(\"Profitable Trades > 1% \" + sel_late_date + \" summary statistics:\")\n",
    "display(profitable_trades_late.describe())\n",
    "print(\"\\n\")\n"
   ]
  },
  {
   "cell_type": "markdown",
   "metadata": {},
   "source": [
    "#### 5. For each of the three dates, calculate the potential profit, in dollars, per trade. To do so, multiply the spread returns that were greater than 1% by the cost of what was purchased. Make sure to drop any missing values from the resulting DataFrame."
   ]
  },
  {
   "cell_type": "code",
   "execution_count": null,
   "metadata": {},
   "outputs": [],
   "source": [
    "# For the date early in the dataset, calculate the potential profit per trade in dollars \n",
    "# Multiply the profitable trades by the cost of the Bitcoin that was purchased\n",
    "profit_early = profitable_trades_early * bitstamp_sliced.loc[sel_early_date]\n",
    "\n",
    "# Drop any missing values from the profit DataFrame\n",
    "profit_per_trade_early = profit_early.dropna()\n",
    "\n",
    "# View the early profit DataFrame\n",
    "print(\"\\n\")\n",
    "print(\"Profit Per Trade \" + sel_early_date + \":\")\n",
    "display(profit_per_trade_early)\n",
    "print(\"\\n\")\n",
    "\n",
    "\n",
    "\n",
    "# For the date middle in the dataset, calculate the potential profit per trade in dollars \n",
    "# Multiply the profitable trades by the cost of the Bitcoin that was purchased\n",
    "profit_middle = profitable_trades_middle * bitstamp_sliced.loc[sel_middle_date]\n",
    "\n",
    "# Drop any missing values from the profit DataFrame\n",
    "profit_per_trade_middle = profit_middle.dropna()\n",
    "\n",
    "# View the middle profit DataFrame\n",
    "print(\"Profit Per Trade \" + sel_middle_date + \":\")\n",
    "display(profit_per_trade_middle)\n",
    "print(\"\\n\")\n",
    "\n",
    "\n",
    "\n",
    "# For the date late in the dataset, calculate the potential profit per trade in dollars \n",
    "# Multiply the profitable trades by the cost of the Bitcoin that was purchased\n",
    "profit_late = profitable_trades_late * bitstamp_sliced.loc[sel_late_date]\n",
    "\n",
    "# Drop any missing values from the profit DataFrame\n",
    "profit_per_trade_late = profit_late.dropna()\n",
    "\n",
    "# View the late profit DataFrame\n",
    "print(\"Profit Per Trade \" + sel_late_date + \":\")\n",
    "display(profit_per_trade_late)\n",
    "print(\"\\n\")\n"
   ]
  },
  {
   "cell_type": "markdown",
   "metadata": {},
   "source": [
    "#### 6. Generate the summary statistics, and plot the results for each of the three DataFrames."
   ]
  },
  {
   "cell_type": "code",
   "execution_count": null,
   "metadata": {},
   "outputs": [],
   "source": [
    "# Generate the summary statistics for the early profit per trade DataFrame\n",
    "print(\"\\n\")\n",
    "print(\"Profits Per Trade - \" + sel_early_date + \" summary statistics:\")\n",
    "display(profit_per_trade_early.describe())\n",
    "print(\"\\n\")\n",
    "\n",
    "\n",
    "\n",
    "# Generate the summary statistics for the middle profit per trade DataFrame\n",
    "print(\"Profits Per Trade - \" + sel_middle_date + \" summary statistics:\")\n",
    "display(profit_per_trade_middle.describe())\n",
    "print(\"\\n\")\n",
    "\n",
    "\n",
    "\n",
    "# Generate the summary statistics for the late profit per trade DataFrame\n",
    "print(\"Profits Per Trade - \" + sel_late_date + \" summary statistics:\")\n",
    "display(profit_per_trade_late.describe())\n",
    "print(\"\\n\")\n"
   ]
  },
  {
   "cell_type": "code",
   "execution_count": null,
   "metadata": {},
   "outputs": [],
   "source": [
    "# Plot the results for the early profit per trade DataFrame\n",
    "if (len(profit_per_trade_early) > 0):\n",
    "    profit_per_trade_early.plot(\n",
    "        figsize = (10,8),\n",
    "        title = \"Profit Per Trade - \" + sel_early_date + \"\",\n",
    "        color = \"magenta\")\n",
    "else:\n",
    "    print(\"\\n\")\n",
    "    print(\"Ther are 0 profits per trade for \", sel_early_date)\n",
    "    print(\"\\n\")"
   ]
  },
  {
   "cell_type": "code",
   "execution_count": null,
   "metadata": {},
   "outputs": [],
   "source": [
    "# Plot the results for the middle profit per trade DataFrame\n",
    "if (len(profit_per_trade_middle) > 0):\n",
    "    profit_per_trade_middle.plot(\n",
    "        figsize = (10,8),\n",
    "        title = \"Profit Per Trade - \" + sel_middle_date + \"\",\n",
    "        color = \"magenta\")\n",
    "else:\n",
    "    print(\"\\n\")\n",
    "    print(\"Ther are 0 profits per trade for \", sel_middle_date)\n",
    "    print(\"\\n\")"
   ]
  },
  {
   "cell_type": "code",
   "execution_count": null,
   "metadata": {},
   "outputs": [],
   "source": [
    "if (len(profit_per_trade_late) > 0):\n",
    "    profit_per_trade_late.plot(\n",
    "        figsize = (10,8),\n",
    "        title = \"Profit Per Trade - \" + sel_late_date + \"\",\n",
    "        color = \"magenta\")\n",
    "else:\n",
    "    print(\"\\n\")\n",
    "    print(\"Ther are 0 profits per trade for \", sel_late_date)\n",
    "    print(\"\\n\")"
   ]
  },
  {
   "cell_type": "markdown",
   "metadata": {},
   "source": [
    "#### 7. Calculate the potential arbitrage profits that you can make on each day. To do so, sum the elements in the profit_per_trade DataFrame."
   ]
  },
  {
   "cell_type": "code",
   "execution_count": null,
   "metadata": {},
   "outputs": [],
   "source": [
    "# Calculate the sum of the potential profits for the early profit per trade DataFrame\n",
    "sum_profit_early = profit_per_trade_early.sum()\n",
    "\n",
    "print(\"\\n\")\n",
    "print(\"Sum of Profits, \" + sel_early_date + \" = \", sum_profit_early)\n",
    "print(\"\\n\")\n",
    "\n",
    "\n",
    "\n",
    "# Calculate the sum of the potential profits for the middle profit per trade DataFrame\n",
    "sum_profit_middle = profit_per_trade_middle.sum()\n",
    "\n",
    "print(\"Sum of Profits, \" + sel_middle_date + \" = \", sum_profit_middle)\n",
    "print(\"\\n\")\n",
    "\n",
    "\n",
    "\n",
    "# Calculate the sum of the potential profits for the late profit per trade DataFrame\n",
    "sum_profit_late = profit_per_trade_late.sum()\n",
    "\n",
    "print(\"Sum of Profits, \" + sel_late_date + \" = \", sum_profit_late)\n",
    "print(\"\\n\")\n"
   ]
  },
  {
   "cell_type": "markdown",
   "metadata": {},
   "source": [
    "#### 8. Using the `cumsum` function, plot the cumulative sum of each of the three DataFrames. Can you identify any patterns or trends in the profits across the three time periods?"
   ]
  },
  {
   "cell_type": "code",
   "execution_count": null,
   "metadata": {},
   "outputs": [],
   "source": [
    "# Use the cumsum function to calculate the cumulative profits over time for the early profit per trade DataFrame\n",
    "cumulative_profit_early = profit_per_trade_early.cumsum()\n",
    "\n",
    "\n",
    "\n",
    "# Use the cumsum function to calculate the cumulative profits over time for the middle profit per trade DataFrame\n",
    "cumulative_profit_middle = profit_per_trade_middle.cumsum()\n",
    "\n",
    "\n",
    "\n",
    "# Use the cumsum function to calculate the cumulative profits over time for the late profit per trade DataFrame\n",
    "cumulative_profit_late = profit_per_trade_late.cumsum()\n"
   ]
  },
  {
   "cell_type": "code",
   "execution_count": null,
   "metadata": {},
   "outputs": [],
   "source": [
    "# Plot the cumulative sum of profits for the early profit per trade DataFrame\n",
    "if (len(cumulative_profit_early) > 0):\n",
    "    cumulative_profit_early.plot(\n",
    "        figsize = (10,8),\n",
    "        title = \"Cumulative Profits - \" + sel_early_date + \"\",\n",
    "        color = \"magenta\")\n",
    "else:\n",
    "    print(\"\\n\")\n",
    "    print(\"Ther are 0 cumulative profits for \", sel_early_date)\n",
    "    print(\"\\n\")"
   ]
  },
  {
   "cell_type": "code",
   "execution_count": null,
   "metadata": {},
   "outputs": [],
   "source": [
    "# Plot the cumulative sum of profits for the middle profit per trade DataFrame\n",
    "if (len(cumulative_profit_middle) > 0):\n",
    "    cumulative_profit_middle.plot(\n",
    "        figsize = (10,8),\n",
    "        title = \"Cumulative Profits - \" + sel_middle_date + \"\",\n",
    "        color = \"magenta\")\n",
    "else:\n",
    "    print(\"\\n\")\n",
    "    print(\"Ther are 0 cumulative profits for \", sel_middle_date)\n",
    "    print(\"\\n\")"
   ]
  },
  {
   "cell_type": "code",
   "execution_count": null,
   "metadata": {},
   "outputs": [],
   "source": [
    "# Plot the cumulative sum of profits for the late profit per trade DataFrame\n",
    "if (len(cumulative_profit_late) > 0):\n",
    "    cumulative_profit_late.plot(\n",
    "        figsize = (10,8),\n",
    "        title = \"Cumulative Profits - \" + sel_late_date + \"\",\n",
    "        color = \"magenta\")\n",
    "else:\n",
    "    print(\"\\n\")\n",
    "    print(\"Ther are 0 cumulative profits for \", sel_late_date)\n",
    "    print(\"\\n\")"
   ]
  },
  {
   "cell_type": "markdown",
   "metadata": {},
   "source": [
    "**Question:** After reviewing the profit information across each date from the different time periods, can you identify any patterns or trends?\n",
    "    \n",
    "**Answer:** \n",
    "\n",
    "Observation 1: Early date selection had a lot more opportunities to make a profit - and got less in later dates.  \n",
    "\n",
    "Observation 2: When overlaying the all the prices between bitstamp and coinbase, just visually you can see that there seemed to be more differences in the early dates than the latter dates.  This was supported / confirmed by Observation 1 above.\n",
    "\n",
    "Observation 3: At \"start\" and \"end\" of a (single) day seemed to be more profitable then the \"middle\" part of the day"
   ]
  },
  {
   "cell_type": "code",
   "execution_count": null,
   "metadata": {},
   "outputs": [],
   "source": []
  }
 ],
 "metadata": {
  "kernelspec": {
   "display_name": "Python 3 (ipykernel)",
   "language": "python",
   "name": "python3"
  },
  "language_info": {
   "codemirror_mode": {
    "name": "ipython",
    "version": 3
   },
   "file_extension": ".py",
   "mimetype": "text/x-python",
   "name": "python",
   "nbconvert_exporter": "python",
   "pygments_lexer": "ipython3",
   "version": "3.9.12"
  }
 },
 "nbformat": 4,
 "nbformat_minor": 4
}
